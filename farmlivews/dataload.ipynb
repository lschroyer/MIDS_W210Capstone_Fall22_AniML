{
 "cells": [
  {
   "cell_type": "code",
   "execution_count": null,
   "metadata": {},
   "outputs": [],
   "source": [
    "import os\n",
    "import glob\n",
    "\n",
    "path = 'input_files'\n",
    "upPath = \"..\"\n",
    "extension = 'csv'\n",
    "os.chdir(path)\n",
    "cvsFiles = glob.glob('*.{}'.format(extension))\n",
    "print(cvsFiles)\n",
    "os.chdir(upPath)"
   ]
  },
  {
   "cell_type": "code",
   "execution_count": null,
   "metadata": {},
   "outputs": [],
   "source": [
    "for cvsFile in cvsFiles:\n",
    "  print(cvsFile)"
   ]
  },
  {
   "cell_type": "code",
   "execution_count": null,
   "metadata": {},
   "outputs": [],
   "source": [
    "print (cvsFiles[0])\n",
    "fileName = cvsFiles[0]\n",
    "print (type(fileName))\n",
    "fileName = \"input_files/\" + fileName \n",
    "print (fileName)"
   ]
  },
  {
   "cell_type": "code",
   "execution_count": null,
   "metadata": {},
   "outputs": [],
   "source": [
    "import csv\n",
    "\n",
    "file = open(fileName)\n",
    "csv_reader = csv.reader(file)\n",
    "\n",
    "# skip 3 rows\n",
    "next(csv_reader)\n",
    "next(csv_reader)\n",
    "next(csv_reader)\n",
    "\n",
    "# len(list(csv_reader))\n",
    "\n",
    "# for row in csv_reader:\n",
    "    # print(row[0], row[1])"
   ]
  },
  {
   "cell_type": "code",
   "execution_count": null,
   "metadata": {},
   "outputs": [],
   "source": [
    "import sqlite3\n",
    "import csv\n",
    "import os\n",
    "import glob\n",
    "\n",
    "path = 'input_files'\n",
    "upPath = \"..\"\n",
    "extension = 'csv'\n",
    "os.chdir(path)\n",
    "cvsFiles = glob.glob('*.{}'.format(extension))\n",
    "print(cvsFiles)\n",
    "os.chdir(upPath)\n",
    "\n",
    "# Open SQLite3 database connection and create table\n",
    "conn = sqlite3.connect('products.db')\n",
    "c = conn.cursor()\n",
    "\n",
    "# Doping users table if already exists\n",
    "c.execute(\"DROP TABLE IF EXISTS product\")\n",
    "print(\"Table dropped... \")\n",
    "\n",
    "#Commit changes in the database\n",
    "conn.commit()\n",
    "\n",
    "# Creatse products table if not already exists\n",
    "c.execute(\"CREATE TABLE IF NOT EXISTS product(ASIN TEXT, Product_Name TEXT,Brand TEXT,Category TEXT,Est_Monthly_Revenue TEXT,Est_Monthly_Sales TEXT,Price TEXT,Fees TEXT,Net TEXT,Rank INTEGER,Reviews INTEGER,LQS INTEGER,Sellers INTEGER,Date_First_Available TEXT,Buy_Box_Owner TEXT,Rating REAL,Dimensions TEXT,Product_Tier TEXT,Weight TEXT)\")\n",
    "\n",
    "totalRecordCount = 0\n",
    "for cvsFile in cvsFiles:\n",
    "    # print(cvsFile)\n",
    "    fileName = cvsFile\n",
    "    # print (type(fileName))\n",
    "    fileName = \"input_files/\" + fileName \n",
    "    print (fileName)\n",
    "\n",
    "    file = open(fileName)\n",
    "    csv_reader = csv.reader(file)\n",
    "\n",
    "    # skip 3 rows\n",
    "    next(csv_reader)\n",
    "    next(csv_reader)\n",
    "    next(csv_reader)\n",
    "    recordCount =0\n",
    "    \n",
    "    for row in csv_reader:\n",
    "        c.execute(\"insert into product values (?, ?, ?, ?, ?, ?, ?, ?, ?, ?, ?, ?, ?, ?, ?, ?, ?, ?, ?)\",\n",
    "        [ row[0], row[1] , row[2], row[3], row[4], row[5], row[6], row[7], row[8], row[9],\n",
    "          row[10], row[11], row[12], row[13], row[14], row[15], row[16], row[17], row[18]\n",
    "        ])\n",
    "        recordCount += 1\n",
    "        # print (\"inserting row: \", row[0])\n",
    "    lastASIN = row[0]\n",
    "    conn.commit()\n",
    "    print (\"Number of Records insert to database: \", recordCount)\n",
    "    print (\"last ASIN: \", lastASIN)\n",
    "    totalRecordCount = totalRecordCount + recordCount\n",
    "          \n",
    "conn.close()\n",
    "print (\"Total Number of Records insert to database: \", totalRecordCount)"
   ]
  }
 ],
 "metadata": {
  "environment": {
   "name": "tf2-gpu.2-1.m47",
   "type": "gcloud",
   "uri": "gcr.io/deeplearning-platform-release/tf2-gpu.2-1:m47"
  },
  "kernelspec": {
   "display_name": "Python 3",
   "language": "python",
   "name": "python3"
  },
  "language_info": {
   "codemirror_mode": {
    "name": "ipython",
    "version": 3
   },
   "file_extension": ".py",
   "mimetype": "text/x-python",
   "name": "python",
   "nbconvert_exporter": "python",
   "pygments_lexer": "ipython3",
   "version": "3.7.6"
  }
 },
 "nbformat": 4,
 "nbformat_minor": 4
}
